{
 "cells": [
  {
   "cell_type": "code",
   "execution_count": 2,
   "metadata": {},
   "outputs": [],
   "source": [
    "import nrrd as nr\n",
    "import os, os.path\n",
    "from glob import glob\n",
    "import numpy as np\n",
    "import matplotlib.pyplot as plt\n",
    "from mpl_toolkits.mplot3d import Axes3D\n",
    "import SimpleITK as sitk\n",
    "import pylab\n",
    "import itertools as iter"
   ]
  },
  {
   "cell_type": "code",
   "execution_count": 16,
   "metadata": {},
   "outputs": [
    {
     "name": "stdout",
     "output_type": "stream",
     "text": [
      "Process 91.66666666666666 %  \n",
      " Images are loaded\n",
      "Process 91.66666666666666 %  \n",
      " Masks are loaded\n",
      "Data are loaded\n"
     ]
    }
   ],
   "source": [
    "#Direction of training and mask images\n",
    "DIR_train = 'C:/Users/Horviratus/Documents/Segment_tut/Train'\n",
    "DIR_mask = 'C:/Users/Horviratus/Documents/Segment_tut/Mask'\n",
    "\n",
    "path_train, dirs_train, files_train = next(os.walk(DIR_train))\n",
    "path_mask, dirs_mask, files_mask = next(os.walk(DIR_train))\n",
    "\n",
    "# Number of images\n",
    "train_count = len(files_train)\n",
    "mask_count = len(files_mask)\n",
    "\n",
    "#Load data\n",
    "\n",
    "files_train = glob(DIR_train+'/*.nrrd')\n",
    "files_mask = glob(DIR_mask+'/*.nrrd')\n",
    "\n",
    "X_DATA = [None]*train_count\n",
    "Y_DATA = [None]*mask_count\n",
    "\n",
    "for file, x  in zip(files_train, range(train_count)):\n",
    "    img = sitk.ReadImage(file, sitk.sitkVectorUInt16)\n",
    "    img_1 = sitk.GetArrayFromImage(img)\n",
    "    X_DATA[x] = img_1\n",
    "    print(\"Process\",(x/train_count)*100,\"% \",end='\\r'),\n",
    "    \n",
    "    #print(np.size(img_1), img_1.ndim, img_1.shape)\n",
    "print(\"\\n Images are loaded\")\n",
    "for file, y  in zip(files_mask, range(mask_count)):\n",
    "    img_m = sitk.ReadImage(file, sitk.sitkVectorUInt16)\n",
    "    img_m1 = sitk.GetArrayFromImage(img_m)\n",
    "    Y_DATA[y] = img_m1\n",
    "    print(\"Process\",(y/mask_count)*100,\"% \",end='\\r'),\n",
    "    #print(np.size(img_m1), img_m1.ndim, img_m1.shape)\n",
    "\n",
    "print(\"\\n Masks are loaded\")\n",
    "print(\"All data are loaded\")\n",
    "\n"
   ]
  },
  {
   "cell_type": "code",
   "execution_count": 4,
   "metadata": {},
   "outputs": [
    {
     "data": {
      "text/plain": [
       "numpy.ndarray"
      ]
     },
     "execution_count": 4,
     "metadata": {},
     "output_type": "execute_result"
    }
   ],
   "source": [
    "type(img_1)"
   ]
  },
  {
   "cell_type": "code",
   "execution_count": null,
   "metadata": {},
   "outputs": [],
   "source": []
  }
 ],
 "metadata": {
  "kernelspec": {
   "display_name": "Python 3",
   "language": "python",
   "name": "python3"
  },
  "language_info": {
   "codemirror_mode": {
    "name": "ipython",
    "version": 3
   },
   "file_extension": ".py",
   "mimetype": "text/x-python",
   "name": "python",
   "nbconvert_exporter": "python",
   "pygments_lexer": "ipython3",
   "version": "3.6.0"
  }
 },
 "nbformat": 4,
 "nbformat_minor": 1
}
